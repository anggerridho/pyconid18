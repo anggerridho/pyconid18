{
 "cells": [
  {
   "cell_type": "markdown",
   "metadata": {},
   "source": [
    "# Lambdify, Solver, and Matrix"
   ]
  },
  {
   "cell_type": "code",
   "execution_count": 1,
   "metadata": {},
   "outputs": [],
   "source": [
    "from sympy import *\n",
    "import matplotlib.pyplot as plt\n",
    "import numpy as np\n",
    "\n",
    "%matplotlib notebook\n",
    "init_printing()"
   ]
  },
  {
   "cell_type": "markdown",
   "metadata": {},
   "source": [
    "## Lambdify\n",
    "\n",
    "Function `evalf` are good for evaluating a mathematical function at a single point, but it is typically more convenient to turn the symbolic expression to reusable numerical function. Let me show you the inconvenience as follows,"
   ]
  },
  {
   "cell_type": "code",
   "execution_count": 2,
   "metadata": {},
   "outputs": [
    {
     "ename": "TypeError",
     "evalue": "'Pow' object is not callable",
     "output_type": "error",
     "traceback": [
      "\u001b[0;31m---------------------------------------------------------------------------\u001b[0m",
      "\u001b[0;31mTypeError\u001b[0m                                 Traceback (most recent call last)",
      "\u001b[0;32m<ipython-input-2-9f8f0b432027>\u001b[0m in \u001b[0;36m<module>\u001b[0;34m\u001b[0m\n\u001b[1;32m      3\u001b[0m \u001b[0;34m\u001b[0m\u001b[0m\n\u001b[1;32m      4\u001b[0m \u001b[0mf\u001b[0m \u001b[0;34m=\u001b[0m \u001b[0mx\u001b[0m\u001b[0;34m**\u001b[0m\u001b[0;36m2\u001b[0m\u001b[0;34m\u001b[0m\u001b[0m\n\u001b[0;32m----> 5\u001b[0;31m \u001b[0mf\u001b[0m\u001b[0;34m(\u001b[0m\u001b[0;36m1\u001b[0m\u001b[0;34m)\u001b[0m \u001b[0;31m# error, not callable\u001b[0m\u001b[0;34m\u001b[0m\u001b[0m\n\u001b[0m\u001b[1;32m      6\u001b[0m \u001b[0mf\u001b[0m\u001b[0;34m(\u001b[0m\u001b[0minputs\u001b[0m\u001b[0;34m)\u001b[0m \u001b[0;31m# even not possible\u001b[0m\u001b[0;34m\u001b[0m\u001b[0m\n",
      "\u001b[0;31mTypeError\u001b[0m: 'Pow' object is not callable"
     ]
    }
   ],
   "source": [
    "var('x')\n",
    "inputs = np.linspace(1,10,10)\n",
    "\n",
    "f = x**2\n",
    "f(1) # error, not callable\n",
    "f(inputs) # even not possible"
   ]
  },
  {
   "cell_type": "markdown",
   "metadata": {},
   "source": [
    "To overcome this, `lamdify` takes in a symbolic variable (or list of variables) and an expression, then returns a callable function that corresponds to the expression."
   ]
  },
  {
   "cell_type": "code",
   "execution_count": 3,
   "metadata": {},
   "outputs": [
    {
     "name": "stdout",
     "output_type": "stream",
     "text": [
      "0 100 10000\n",
      "5 3.24\n"
     ]
    }
   ],
   "source": [
    "var('x, y')\n",
    "g = lambdify(x, x**2)\n",
    "h = lambdify((x, y), x+y)\n",
    "print(g(0), g(10), g(100)) # become callable\n",
    "print(h(2, 3), h(0.1, 3.14)) # much more convenient"
   ]
  },
  {
   "cell_type": "markdown",
   "metadata": {},
   "source": [
    "`lambdify` has `module` input argument to define how the computation behaves. It maps the symbolic function in to numerical implementation. We can use either `sympy`, `numpy`, `math`, `numexpr`, or `mpmath`. If not specified differently by the user, SymPy functions are replaced as far as possible by either `python-math`, `numpy` (if available) or `mpmath` functions - exactly in this order. The choice also determine computational speed."
   ]
  },
  {
   "cell_type": "code",
   "execution_count": 4,
   "metadata": {},
   "outputs": [
    {
     "name": "stdout",
     "output_type": "stream",
     "text": [
      "CPU times: user 9.52 s, sys: 3.54 ms, total: 9.53 s\n",
      "Wall time: 9.53 s\n",
      "CPU times: user 29.7 ms, sys: 0 ns, total: 29.7 ms\n",
      "Wall time: 29.6 ms\n",
      "CPU times: user 897 µs, sys: 9 µs, total: 906 µs\n",
      "Wall time: 574 µs\n",
      "CPU times: user 610 µs, sys: 0 ns, total: 610 µs\n",
      "Wall time: 421 µs\n"
     ]
    }
   ],
   "source": [
    "points = np.random.random(20000)\n",
    "expr = sinh(x)\n",
    "\n",
    "# Time using evalf() on each of the random points.\n",
    "%time _ = [expr.subs(x, pt).evalf() for pt in points]\n",
    "\n",
    "# Lambdify the expression and time using the resulting function.\n",
    "f = lambdify(x, expr)\n",
    "%time _ = [f(pt) for pt in points]\n",
    "\n",
    "# Lambdify the expression and time using the default module order.\n",
    "f = lambdify(x, expr)\n",
    "%time _ = f(points)\n",
    "\n",
    "# Lambdify the expression and time using only numpy module.\n",
    "f = lambdify(x, expr, \"numpy\")\n",
    "%time _ = f(points)"
   ]
  },
  {
   "cell_type": "markdown",
   "metadata": {},
   "source": [
    "## Solver and Matrix\n",
    "\n",
    "A SymPy expression by itself is not an equation. However, `solve` equates an expression with zero and solves for a specified variable. In this way, SymPy can be used to solve equations."
   ]
  },
  {
   "cell_type": "code",
   "execution_count": 5,
   "metadata": {},
   "outputs": [
    {
     "data": {
      "image/png": "[encoded data removed]",
      "text/latex": [
       "$$x^{2} - 4$$"
      ],
      "text/plain": [
       " 2    \n",
       "x  - 4"
      ]
     },
     "metadata": {},
     "output_type": "display_data"
    },
    {
     "data": {
      "image/png": "[encoded data removed]",
      "text/latex": [
       "$$\\left [ -2, \\quad 2\\right ]$$"
      ],
      "text/plain": [
       "[-2, 2]"
      ]
     },
     "execution_count": 5,
     "metadata": {},
     "output_type": "execute_result"
    }
   ],
   "source": [
    "expr = x**2 - 4\n",
    "display(expr) # right-hand side is equated as zero\n",
    "solve(expr,x)"
   ]
  },
  {
   "cell_type": "markdown",
   "metadata": {},
   "source": [
    "We can also define both sides using `Eq` instead of assuming the right hand-side to be zero."
   ]
  },
  {
   "cell_type": "code",
   "execution_count": 6,
   "metadata": {},
   "outputs": [
    {
     "data": {
      "image/png": "[encoded data removed]",
      "text/latex": [
       "$$x^{2} = 4$$"
      ],
      "text/plain": [
       " 2    \n",
       "x  = 4"
      ]
     },
     "metadata": {},
     "output_type": "display_data"
    },
    {
     "data": {
      "image/png": "[encoded data removed]",
      "text/latex": [
       "$$\\left [ -2, \\quad 2\\right ]$$"
      ],
      "text/plain": [
       "[-2, 2]"
      ]
     },
     "execution_count": 6,
     "metadata": {},
     "output_type": "execute_result"
    }
   ],
   "source": [
    "expr = Eq(x**2,4)\n",
    "display(expr) # two sides equation\n",
    "solve(expr,x)"
   ]
  },
  {
   "cell_type": "markdown",
   "metadata": {},
   "source": [
    "Sometimes we also calculate systems of equation. For example a system of linear equation as following\n",
    "\n",
    "$\\begin{matrix}x &+& y &+& z &=& 5\\\\2x &+& 3y &+& 2z &=& 2\\\\7x &+& y &+& 6z &=& 12\\end{matrix}$\n",
    "\n",
    "We can rewrite in sympy and find the solutions."
   ]
  },
  {
   "cell_type": "code",
   "execution_count": 7,
   "metadata": {},
   "outputs": [
    {
     "data": {
      "image/png": "[encoded data removed]",
      "text/latex": [
       "$$\\left \\{ x : -58, \\quad y : -8, \\quad z : 71\\right \\}$$"
      ],
      "text/plain": [
       "{x: -58, y: -8, z: 71}"
      ]
     },
     "execution_count": 7,
     "metadata": {},
     "output_type": "execute_result"
    }
   ],
   "source": [
    "var('x, y, z')\n",
    "M = Matrix([\n",
    "    [1, 1, 1, 5],\n",
    "    [2, 3, 2, 2],\n",
    "    [7, 1, 6, 12]\n",
    "])\n",
    "solve_linear_system(M, x, y, z)"
   ]
  },
  {
   "cell_type": "markdown",
   "metadata": {},
   "source": [
    "SymPy matrices support the standard matrix operations of addition `+`, subtraction `-`, and multiplication `*`. Additionally, SymPy matrices are equipped with many useful methods, some of\n",
    "which are listed below. See http://docs.sympy.org/latest/modules/matrices/matrices.html for more methods and examples.\n",
    "\n",
    "|Method|Return|\n",
    "|:-:|:-:|\n",
    "|`det()`|The determinant.|\n",
    "|`eigenvals()`|The eigenvalues and their multiplicities.|\n",
    "|`eigenvects()`|The eigenvectors and their corresponding eigenvalues.|\n",
    "|`inv()`|The matrix inverse.|\n",
    "|`is_nilpotent()`|True if the matrix is nilpotent.|\n",
    "|`norm()`|The Frobenius, ∞, 1, or 2 norm.|\n",
    "|`nullspace()`|The nullspace as a list of vectors.|\n",
    "|`rref()`|The reduced row-echelon form.|\n",
    "|`singular_values()`|The singular values.|\n",
    "|`T`|The transpose.|"
   ]
  },
  {
   "cell_type": "code",
   "execution_count": 8,
   "metadata": {},
   "outputs": [
    {
     "data": {
      "text/latex": [
       "$$\\left[\\begin{matrix}1 & 2\\\\3 & 4\\end{matrix}\\right]$$"
      ],
      "text/plain": [
       "⎡1  2⎤\n",
       "⎢    ⎥\n",
       "⎣3  4⎦"
      ]
     },
     "metadata": {},
     "output_type": "display_data"
    },
    {
     "data": {
      "text/latex": [
       "$$\\left[\\begin{matrix}1 & 3\\\\2 & 4\\end{matrix}\\right]$$"
      ],
      "text/plain": [
       "⎡1  3⎤\n",
       "⎢    ⎥\n",
       "⎣2  4⎦"
      ]
     },
     "metadata": {},
     "output_type": "display_data"
    },
    {
     "data": {
      "image/png": "[encoded data removed]",
      "text/latex": [
       "$$\\sqrt{30}$$"
      ],
      "text/plain": [
       "√30"
      ]
     },
     "metadata": {},
     "output_type": "display_data"
    },
    {
     "data": {
      "text/latex": [
       "$$\\left[\\begin{matrix}1 & 0\\\\0 & 1\\end{matrix}\\right]$$"
      ],
      "text/plain": [
       "⎡1  0⎤\n",
       "⎢    ⎥\n",
       "⎣0  1⎦"
      ]
     },
     "metadata": {},
     "output_type": "display_data"
    }
   ],
   "source": [
    "# Example of matrix\n",
    "A = Matrix([\n",
    "    [1, 2],\n",
    "    [3, 4]\n",
    "])\n",
    "\n",
    "display(A)\n",
    "display(A.T)\n",
    "display(A.norm())\n",
    "display(A * A.inv())"
   ]
  },
  {
   "cell_type": "code",
   "execution_count": 9,
   "metadata": {},
   "outputs": [
    {
     "data": {
      "text/latex": [
       "$$\\left[\\begin{matrix}a & c\\\\b & d\\end{matrix}\\right]$$"
      ],
      "text/plain": [
       "⎡a  c⎤\n",
       "⎢    ⎥\n",
       "⎣b  d⎦"
      ]
     },
     "metadata": {},
     "output_type": "display_data"
    },
    {
     "data": {
      "image/png": "[encoded data removed]",
      "text/latex": [
       "$$\\sqrt{\\left|{a}\\right|^{2} + \\left|{b}\\right|^{2} + \\left|{c}\\right|^{2} + \\left|{d}\\right|^{2}}$$"
      ],
      "text/plain": [
       "   ___________________________\n",
       "  ╱    2      2      2      2 \n",
       "╲╱  │a│  + │b│  + │c│  + │d│  "
      ]
     },
     "metadata": {},
     "output_type": "display_data"
    },
    {
     "data": {
      "text/latex": [
       "$$\\left[\\begin{matrix}\\frac{d}{a d - b c} & - \\frac{b}{a d - b c}\\\\- \\frac{c}{a d - b c} & \\frac{a}{a d - b c}\\end{matrix}\\right]$$"
      ],
      "text/plain": [
       "⎡    d         -b    ⎤\n",
       "⎢─────────  ─────────⎥\n",
       "⎢a⋅d - b⋅c  a⋅d - b⋅c⎥\n",
       "⎢                    ⎥\n",
       "⎢   -c          a    ⎥\n",
       "⎢─────────  ─────────⎥\n",
       "⎣a⋅d - b⋅c  a⋅d - b⋅c⎦"
      ]
     },
     "metadata": {},
     "output_type": "display_data"
    },
    {
     "data": {
      "text/latex": [
       "$$\\left[\\begin{matrix}\\frac{a d}{a d - b c} - \\frac{b c}{a d - b c} & 0\\\\0 & \\frac{a d}{a d - b c} - \\frac{b c}{a d - b c}\\end{matrix}\\right]$$"
      ],
      "text/plain": [
       "⎡   a⋅d         b⋅c                          ⎤\n",
       "⎢───────── - ─────────            0          ⎥\n",
       "⎢a⋅d - b⋅c   a⋅d - b⋅c                       ⎥\n",
       "⎢                                            ⎥\n",
       "⎢                          a⋅d         b⋅c   ⎥\n",
       "⎢          0            ───────── - ─────────⎥\n",
       "⎣                       a⋅d - b⋅c   a⋅d - b⋅c⎦"
      ]
     },
     "metadata": {},
     "output_type": "display_data"
    }
   ],
   "source": [
    "# Example of symbolic matrix\n",
    "var('a, b, c, d')\n",
    "B = Matrix([\n",
    "    [a, b],\n",
    "    [c, d]\n",
    "])\n",
    "\n",
    "latex(B)\n",
    "display(B.T)\n",
    "display(B.norm())\n",
    "display(B.inv())\n",
    "display(B * B.inv())"
   ]
  },
  {
   "cell_type": "markdown",
   "metadata": {},
   "source": [
    "## Challenges\n",
    "\n",
    "- Solve x for $\\sqrt{x-8}=3$\n",
    "- Solve x for $\\left|2x-1\\right|=5$\n",
    "- Solve x for $e^x = 72$"
   ]
  }
 ],
 "metadata": {
  "kernelspec": {
   "display_name": "Python 3",
   "language": "python",
   "name": "python3"
  },
  "language_info": {
   "codemirror_mode": {
    "name": "ipython",
    "version": 3
   },
   "file_extension": ".py",
   "mimetype": "text/x-python",
   "name": "python",
   "nbconvert_exporter": "python",
   "pygments_lexer": "ipython3",
   "version": "3.6.6"
  }
 },
 "nbformat": 4,
 "nbformat_minor": 2
}
