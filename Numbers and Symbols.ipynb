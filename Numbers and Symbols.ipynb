{
 "cells": [
  {
   "cell_type": "markdown",
   "metadata": {},
   "source": [
    "# Numbers and Symbols"
   ]
  },
  {
   "cell_type": "code",
   "execution_count": 1,
   "metadata": {},
   "outputs": [],
   "source": [
    "from sympy import *\n",
    "import  matplotlib.pyplot as plt\n",
    "import numpy as np\n",
    "\n",
    "%matplotlib notebook\n",
    "init_printing()"
   ]
  },
  {
   "cell_type": "markdown",
   "metadata": {},
   "source": [
    "Symbolic computation deals with the computation of mathematical objects symbolically. In other words, a mathematical number is represented exactly, not by approximation. If the number or expression is not evaluated, it will remain in symbolic form.\n",
    "\n",
    "See examples below. For example $\\sqrt{12}$, it is an irrational number and can't be represented in exact decimal, thus it will be approximated. In Sympy, it will be given in accurate symbolic form, or even simplified, as $\\sqrt{12}=\\sqrt{4\\cdot2}=2\\sqrt{3}$. So does the other representation."
   ]
  },
  {
   "cell_type": "code",
   "execution_count": 2,
   "metadata": {},
   "outputs": [
    {
     "name": "stdout",
     "output_type": "stream",
     "text": [
      "12.0\n",
      "3.6666666666666665\n",
      "2.0\n",
      "3.4641016151377544\n",
      "3.141592653589793\n"
     ]
    }
   ],
   "source": [
    "# Irrational number by approximation\n",
    "import math\n",
    "print(144/12)        # rational number\n",
    "print(121/33)        # irrational number\n",
    "print(math.sqrt(4))  # rational number\n",
    "print(math.sqrt(12)) # irrational number\n",
    "print(math.pi)       # irrational number"
   ]
  },
  {
   "cell_type": "code",
   "execution_count": 3,
   "metadata": {},
   "outputs": [
    {
     "data": {
      "image/png": "[encoded data removed]",
      "text/latex": [
       "$$12$$"
      ],
      "text/plain": [
       "12"
      ]
     },
     "metadata": {},
     "output_type": "display_data"
    },
    {
     "data": {
      "image/png": "[encoded data removed]",
      "text/latex": [
       "$$\\frac{11}{3}$$"
      ],
      "text/plain": [
       "11/3"
      ]
     },
     "metadata": {},
     "output_type": "display_data"
    },
    {
     "data": {
      "image/png": "[encoded data removed]",
      "text/latex": [
       "$$2$$"
      ],
      "text/plain": [
       "2"
      ]
     },
     "metadata": {},
     "output_type": "display_data"
    },
    {
     "data": {
      "image/png": "[encoded data removed]",
      "text/latex": [
       "$$2 \\sqrt{3}$$"
      ],
      "text/plain": [
       "2⋅√3"
      ]
     },
     "metadata": {},
     "output_type": "display_data"
    },
    {
     "data": {
      "image/png": "[encoded data removed]",
      "text/latex": [
       "$$\\pi$$"
      ],
      "text/plain": [
       "π"
      ]
     },
     "metadata": {},
     "output_type": "display_data"
    }
   ],
   "source": [
    "# Irrational number in symbolic form\n",
    "display(S('144/12')) # rational number\n",
    "display(S('121/33')) # irrational number\n",
    "display(sqrt(4))     # rational number\n",
    "display(sqrt(12))    # irrational number\n",
    "display(pi)          # irrational number"
   ]
  },
  {
   "cell_type": "markdown",
   "metadata": {},
   "source": [
    "SymPy also allows us to define variables and compute them symbolically. Variables in SymPy must be declared beforehand. This can be done either using `symbols`,`var`, `sympify`, or `S` function.\n",
    "\n",
    "Sympy has reserved common symbols name as defined in `sympy.abc`, so instead of declaring variables name by ourself, we can import them. Here are some of usable common symbols :\n",
    "\n",
    "```'A', 'B', 'C', 'D', 'E', 'F', 'G', 'H', 'I', 'J', 'K', 'L', 'M','N', 'O','P', 'Q', 'R', 'S', 'T', 'U', 'V', 'W', 'X','Y', 'Z','a', 'alpha', 'b', 'beta', 'c', 'chi', 'd', 'delta', 'e','epsilon', 'eta', 'f', 'g', 'gamma', 'h', 'i', 'iota', 'j', 'k','kappa','l', 'm', 'mu', 'n', 'nu', 'o', 'omega', 'omicron', 'p','phi', 'pi','psi', 'q', 'r', 'rho', 's', 'sigma', 't', 'tau','theta', 'u', 'upsilon','v', 'w', 'x', 'xi', 'y', 'z', 'zeta'\n",
    "```"
   ]
  },
  {
   "cell_type": "code",
   "execution_count": 4,
   "metadata": {},
   "outputs": [
    {
     "data": {
      "image/png": "[encoded data removed]",
      "text/latex": [
       "$$x$$"
      ],
      "text/plain": [
       "x"
      ]
     },
     "metadata": {},
     "output_type": "display_data"
    },
    {
     "data": {
      "image/png": "[encoded data removed]",
      "text/latex": [
       "$$y$$"
      ],
      "text/plain": [
       "y"
      ]
     },
     "metadata": {},
     "output_type": "display_data"
    },
    {
     "data": {
      "image/png": "[encoded data removed]",
      "text/latex": [
       "$$z$$"
      ],
      "text/plain": [
       "z"
      ]
     },
     "metadata": {},
     "output_type": "display_data"
    },
    {
     "data": {
      "image/png": "[encoded data removed]",
      "text/latex": [
       "$$\\sigma$$"
      ],
      "text/plain": [
       "σ"
      ]
     },
     "metadata": {},
     "output_type": "display_data"
    },
    {
     "data": {
      "image/png": "[encoded data removed]",
      "text/latex": [
       "$$\\rho$$"
      ],
      "text/plain": [
       "ρ"
      ]
     },
     "metadata": {},
     "output_type": "display_data"
    }
   ],
   "source": [
    "x = symbols('x')\n",
    "var('y')\n",
    "z = S('z')\n",
    "sigma = sympify('sigma')\n",
    "rho = S('rho')\n",
    "display(x, y, z, sigma, rho)"
   ]
  },
  {
   "cell_type": "code",
   "execution_count": 5,
   "metadata": {},
   "outputs": [
    {
     "data": {
      "image/png": "[encoded data removed]",
      "text/latex": [
       "$$\\psi \\left(\\delta i - m\\right) = 0$$"
      ],
      "text/plain": [
       "ψ⋅(δ⋅i - m) = 0"
      ]
     },
     "execution_count": 5,
     "metadata": {},
     "output_type": "execute_result"
    }
   ],
   "source": [
    "from sympy.abc import delta, psi, m, i\n",
    "Eq((i*delta-m)*psi,0)"
   ]
  },
  {
   "cell_type": "markdown",
   "metadata": {},
   "source": [
    "Once variables are declared, we can do further calculation upon these variables."
   ]
  },
  {
   "cell_type": "code",
   "execution_count": 6,
   "metadata": {},
   "outputs": [
    {
     "data": {
      "image/png": "[encoded data removed]",
      "text/latex": [
       "$$x + 1$$"
      ],
      "text/plain": [
       "x + 1"
      ]
     },
     "execution_count": 6,
     "metadata": {},
     "output_type": "execute_result"
    }
   ],
   "source": [
    "x+1"
   ]
  },
  {
   "cell_type": "code",
   "execution_count": 7,
   "metadata": {},
   "outputs": [
    {
     "data": {
      "image/png": "[encoded data removed]",
      "text/latex": [
       "$$x + y^{2}$$"
      ],
      "text/plain": [
       "     2\n",
       "x + y "
      ]
     },
     "execution_count": 7,
     "metadata": {},
     "output_type": "execute_result"
    }
   ],
   "source": [
    "x+ y**2"
   ]
  },
  {
   "cell_type": "code",
   "execution_count": 8,
   "metadata": {},
   "outputs": [
    {
     "data": {
      "image/png": "[encoded data removed]",
      "text/latex": [
       "$$\\sqrt{z}$$"
      ],
      "text/plain": [
       "√z"
      ]
     },
     "execution_count": 8,
     "metadata": {},
     "output_type": "execute_result"
    }
   ],
   "source": [
    "sqrt(z)"
   ]
  },
  {
   "cell_type": "code",
   "execution_count": 9,
   "metadata": {},
   "outputs": [
    {
     "data": {
      "image/png": "[encoded data removed]",
      "text/latex": [
       "$$x^{2} \\left(x + 2 y\\right)$$"
      ],
      "text/plain": [
       " 2          \n",
       "x ⋅(x + 2⋅y)"
      ]
     },
     "execution_count": 9,
     "metadata": {},
     "output_type": "execute_result"
    }
   ],
   "source": [
    "factor(x**3 + 2*x**2*y)"
   ]
  },
  {
   "cell_type": "code",
   "execution_count": 10,
   "metadata": {},
   "outputs": [
    {
     "data": {
      "image/png": "[encoded data removed]",
      "text/latex": [
       "$$x + y = z$$"
      ],
      "text/plain": [
       "x + y = z"
      ]
     },
     "execution_count": 10,
     "metadata": {},
     "output_type": "execute_result"
    }
   ],
   "source": [
    "Eq(x + y, z)"
   ]
  },
  {
   "cell_type": "markdown",
   "metadata": {},
   "source": [
    "Besides variables, SymPy also support mathematical and physical constants. Here are some of the common constant :\n",
    "\n",
    "```\n",
    "'pi','oo','I','E'\n",
    "```"
   ]
  },
  {
   "cell_type": "code",
   "execution_count": 11,
   "metadata": {},
   "outputs": [
    {
     "data": {
      "image/png": "[encoded data removed]",
      "text/latex": [
       "$$\\pi$$"
      ],
      "text/plain": [
       "π"
      ]
     },
     "metadata": {},
     "output_type": "display_data"
    },
    {
     "data": {
      "image/png": "[encoded data removed]",
      "text/latex": [
       "$$\\infty$$"
      ],
      "text/plain": [
       "∞"
      ]
     },
     "metadata": {},
     "output_type": "display_data"
    },
    {
     "data": {
      "image/png": "[encoded data removed]",
      "text/latex": [
       "$$i$$"
      ],
      "text/plain": [
       "ⅈ"
      ]
     },
     "metadata": {},
     "output_type": "display_data"
    },
    {
     "data": {
      "image/png": "[encoded data removed]",
      "text/latex": [
       "$$e$$"
      ],
      "text/plain": [
       "ℯ"
      ]
     },
     "metadata": {},
     "output_type": "display_data"
    }
   ],
   "source": [
    "display(pi) # pi\n",
    "display(oo) # infinity\n",
    "display(I)  # imaginary / complex number\n",
    "display(E)  # euler's number"
   ]
  },
  {
   "cell_type": "markdown",
   "metadata": {},
   "source": [
    "## Challenges\n",
    "- Expand $(x + 1)^2$\n",
    "\n",
    "- Expand $(\\alpha + 4)\\cdot(\\beta - 4)$\n",
    "\n",
    "- Compute $\\sqrt{-1}$\n",
    "\n",
    "- Compute $e^{i\\pi}+1$"
   ]
  }
 ],
 "metadata": {
  "kernelspec": {
   "display_name": "Python 3",
   "language": "python",
   "name": "python3"
  },
  "language_info": {
   "codemirror_mode": {
    "name": "ipython",
    "version": 3
   },
   "file_extension": ".py",
   "mimetype": "text/x-python",
   "name": "python",
   "nbconvert_exporter": "python",
   "pygments_lexer": "ipython3",
   "version": "3.6.6"
  }
 },
 "nbformat": 4,
 "nbformat_minor": 2
}
