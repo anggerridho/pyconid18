{
 "cells": [
  {
   "cell_type": "markdown",
   "metadata": {},
   "source": [
    "# Calculus"
   ]
  },
  {
   "cell_type": "code",
   "execution_count": 1,
   "metadata": {},
   "outputs": [],
   "source": [
    "from sympy import *\n",
    "import  matplotlib.pyplot as plt\n",
    "import numpy as np\n",
    "\n",
    "%matplotlib notebook\n",
    "init_printing()"
   ]
  },
  {
   "cell_type": "markdown",
   "metadata": {},
   "source": [
    "In SymPy we are allowed to perform standard calculus operations, including derivatives, integrals, and limits. Like other elements of SymPy, calculus operations can be temporally expensive, but they give exact solutions whenever solutions exist."
   ]
  },
  {
   "cell_type": "markdown",
   "metadata": {},
   "source": [
    "## Differentiation\n",
    "\n",
    "We can do differentiation in two ways in Sympy, first the unevaluated form using `Derivative` function and immediate evaluation using `diff` function. While using `Derivative`, we need to execute `doit` function to evaluate the derivation."
   ]
  },
  {
   "cell_type": "code",
   "execution_count": 2,
   "metadata": {},
   "outputs": [
    {
     "data": {
      "image/png": "[encoded data removed]",
      "text/latex": [
       "$$\\frac{d}{d \\alpha} \\cos^{2}{\\left (\\alpha \\right )}$$"
      ],
      "text/plain": [
       "d ⎛   2   ⎞\n",
       "──⎝cos (α)⎠\n",
       "dα         "
      ]
     },
     "metadata": {},
     "output_type": "display_data"
    },
    {
     "data": {
      "image/png": "[encoded data removed]",
      "text/latex": [
       "$$- 2 \\sin{\\left (\\alpha \\right )} \\cos{\\left (\\alpha \\right )}$$"
      ],
      "text/plain": [
       "-2⋅sin(α)⋅cos(α)"
      ]
     },
     "metadata": {},
     "output_type": "display_data"
    }
   ],
   "source": [
    "# Unevaluated derivation\n",
    "\n",
    "var('alpha')\n",
    "f = cos(alpha)**2\n",
    "\n",
    "df = Derivative(f, alpha)\n",
    "display(df)\n",
    "\n",
    "display(df.doit())"
   ]
  },
  {
   "cell_type": "code",
   "execution_count": 3,
   "metadata": {},
   "outputs": [
    {
     "data": {
      "image/png": "[encoded data removed]",
      "text/latex": [
       "$$- 2 \\sin{\\left (\\alpha \\right )} \\cos{\\left (\\alpha \\right )}$$"
      ],
      "text/plain": [
       "-2⋅sin(α)⋅cos(α)"
      ]
     },
     "metadata": {},
     "output_type": "display_data"
    },
    {
     "data": {
      "image/png": "[encoded data removed]",
      "text/latex": [
       "$$- 2 \\sin{\\left (\\alpha \\right )} \\cos{\\left (\\alpha \\right )}$$"
      ],
      "text/plain": [
       "-2⋅sin(α)⋅cos(α)"
      ]
     },
     "metadata": {},
     "output_type": "display_data"
    }
   ],
   "source": [
    "# Immediate derivation\n",
    "\n",
    "df = diff(f, alpha)\n",
    "display(df)\n",
    "\n",
    "df = f.diff(alpha) # alternative\n",
    "display(df)"
   ]
  },
  {
   "cell_type": "markdown",
   "metadata": {},
   "source": [
    "## Integrals\n",
    "\n",
    "With the same fashion with differentiation, integration also poses two way of computation, `Integral` and `integrate`; the unevaluated and immediate evaluation respectively. Note that in Sympy undefinite integrals will not preceeded by constants :D"
   ]
  },
  {
   "cell_type": "code",
   "execution_count": 4,
   "metadata": {},
   "outputs": [
    {
     "data": {
      "image/png": "[encoded data removed]",
      "text/latex": [
       "$$\\int \\tanh{\\left (\\beta \\right )}\\, d\\beta$$"
      ],
      "text/plain": [
       "⌠           \n",
       "⎮ tanh(β) dβ\n",
       "⌡           "
      ]
     },
     "metadata": {},
     "output_type": "display_data"
    },
    {
     "data": {
      "image/png": "[encoded data removed]",
      "text/latex": [
       "$$\\beta - \\log{\\left (\\tanh{\\left (\\beta \\right )} + 1 \\right )}$$"
      ],
      "text/plain": [
       "β - log(tanh(β) + 1)"
      ]
     },
     "metadata": {},
     "output_type": "display_data"
    }
   ],
   "source": [
    "# Unvelauted integration\n",
    "\n",
    "var('beta')\n",
    "f = tanh(beta)\n",
    "\n",
    "F = Integral(f, beta)\n",
    "display(F)\n",
    "\n",
    "display(F.doit())"
   ]
  },
  {
   "cell_type": "code",
   "execution_count": 5,
   "metadata": {},
   "outputs": [
    {
     "data": {
      "image/png": "[encoded data removed]",
      "text/latex": [
       "$$\\beta - \\log{\\left (\\tanh{\\left (\\beta \\right )} + 1 \\right )}$$"
      ],
      "text/plain": [
       "β - log(tanh(β) + 1)"
      ]
     },
     "metadata": {},
     "output_type": "display_data"
    },
    {
     "data": {
      "image/png": "[encoded data removed]",
      "text/latex": [
       "$$\\beta - \\log{\\left (\\tanh{\\left (\\beta \\right )} + 1 \\right )}$$"
      ],
      "text/plain": [
       "β - log(tanh(β) + 1)"
      ]
     },
     "metadata": {},
     "output_type": "display_data"
    }
   ],
   "source": [
    "# Immediate integration\n",
    "\n",
    "F = integrate(f, beta)\n",
    "display(F)\n",
    "\n",
    "F = f.integrate(beta) # alternative\n",
    "display(F)"
   ]
  },
  {
   "cell_type": "markdown",
   "metadata": {},
   "source": [
    "We can do finite integration by giving bounds to the integral expression"
   ]
  },
  {
   "cell_type": "code",
   "execution_count": 6,
   "metadata": {},
   "outputs": [
    {
     "data": {
      "image/png": "[encoded data removed]",
      "text/latex": [
       "$$\\frac{\\pi}{2}$$"
      ],
      "text/plain": [
       "π\n",
       "─\n",
       "2"
      ]
     },
     "execution_count": 6,
     "metadata": {},
     "output_type": "execute_result"
    }
   ],
   "source": [
    "f = sin(beta)**2\n",
    "integrate(f, (beta, 0, pi))"
   ]
  },
  {
   "cell_type": "code",
   "execution_count": 7,
   "metadata": {},
   "outputs": [
    {
     "data": {
      "image/png": "[encoded data removed]",
      "text/plain": [
       "<Figure size 432x288 with 1 Axes>"
      ]
     },
     "metadata": {
      "needs_background": "light"
     },
     "output_type": "display_data"
    },
    {
     "data": {
      "text/plain": [
       "<sympy.plotting.plot.Plot at 0x7feccd0c30f0>"
      ]
     },
     "execution_count": 7,
     "metadata": {},
     "output_type": "execute_result"
    }
   ],
   "source": [
    "plot(f,(beta, 0, pi))"
   ]
  },
  {
   "cell_type": "markdown",
   "metadata": {},
   "source": [
    "## Limits\n",
    "\n",
    "Limits can be expressed, similar to derivatives or integrals, with `Limit`. Alternatively, `limit` evaluates a limit directly."
   ]
  },
  {
   "cell_type": "code",
   "execution_count": 8,
   "metadata": {},
   "outputs": [
    {
     "data": {
      "image/png": "[encoded data removed]",
      "text/latex": [
       "$$\\lim_{x \\to 0^+} \\frac{1}{x}$$"
      ],
      "text/plain": [
       "     1\n",
       " lim ─\n",
       "x─→0⁺x"
      ]
     },
     "metadata": {},
     "output_type": "display_data"
    },
    {
     "data": {
      "image/png": "[encoded data removed]",
      "text/latex": [
       "$$\\infty$$"
      ],
      "text/plain": [
       "∞"
      ]
     },
     "metadata": {},
     "output_type": "display_data"
    }
   ],
   "source": [
    "# Unevaluated limits\n",
    "\n",
    "var('x')\n",
    "\n",
    "f = 1/x\n",
    "\n",
    "lf = Limit(f, x, 0)\n",
    "display(lf)\n",
    "\n",
    "display(lf.doit())"
   ]
  },
  {
   "cell_type": "code",
   "execution_count": 9,
   "metadata": {},
   "outputs": [
    {
     "data": {
      "image/png": "[encoded data removed]",
      "text/latex": [
       "$$\\infty$$"
      ],
      "text/plain": [
       "∞"
      ]
     },
     "execution_count": 9,
     "metadata": {},
     "output_type": "execute_result"
    }
   ],
   "source": [
    "# Immediate evaluation of limits\n",
    "limit(f, x, 0)"
   ]
  },
  {
   "cell_type": "markdown",
   "metadata": {},
   "source": [
    "## Challenges\n",
    "\n",
    "- Find the differential of $\\dfrac{x^2}{sin(x)}$ over $x$\n",
    "- Find maximum and minimum values of $f(x)=2x^3-3x^2-6$\n",
    "- Calculate $\\int \\dfrac{s^2+1}{s^2-1} ds$\n",
    "- Evaluate $\\lim_{z \\to 4}{\\dfrac{\\sqrt{z}-2}{z-4}}$"
   ]
  }
 ],
 "metadata": {
  "kernelspec": {
   "display_name": "Python 3",
   "language": "python",
   "name": "python3"
  },
  "language_info": {
   "codemirror_mode": {
    "name": "ipython",
    "version": 3
   },
   "file_extension": ".py",
   "mimetype": "text/x-python",
   "name": "python",
   "nbconvert_exporter": "python",
   "pygments_lexer": "ipython3",
   "version": "3.6.6"
  }
 },
 "nbformat": 4,
 "nbformat_minor": 2
}
